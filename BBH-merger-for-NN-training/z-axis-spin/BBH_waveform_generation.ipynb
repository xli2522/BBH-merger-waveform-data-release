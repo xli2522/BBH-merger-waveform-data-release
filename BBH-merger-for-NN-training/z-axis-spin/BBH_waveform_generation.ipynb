{
  "nbformat": 4,
  "nbformat_minor": 0,
  "metadata": {
    "colab": {
      "provenance": [],
      "collapsed_sections": [],
      "mount_file_id": "1bmhmIRuC4t-xkY4j0hJyQcRoaKy0KDoN",
      "authorship_tag": "ABX9TyNmCrJCmiJDnKUoXPkfqRkc",
      "include_colab_link": true
    },
    "kernelspec": {
      "name": "python3",
      "display_name": "Python 3"
    },
    "language_info": {
      "name": "python"
    },
    "accelerator": "GPU",
    "gpuClass": "standard"
  },
  "cells": [
    {
      "cell_type": "markdown",
      "metadata": {
        "id": "view-in-github",
        "colab_type": "text"
      },
      "source": [
        "<a href=\"https://colab.research.google.com/github/xli2522/BBH-merger-waveform-data-release/blob/main/BBH-merger-for-NN-training/z-axis-spin/BBH_waveform_generation.ipynb\" target=\"_parent\"><img src=\"https://colab.research.google.com/assets/colab-badge.svg\" alt=\"Open In Colab\"/></a>"
      ]
    },
    {
      "cell_type": "markdown",
      "metadata": {
        "id": "bXbfQrcO607T"
      },
      "source": [
        "<img style=\"float: left;padding: 1.3em\" src=\"https://indico.in2p3.fr/event/18313/logo-786578160.png\">  \n",
        "#  BBH Merger Gravitational Wave Waveform with Noise \n",
        "#####(for GW Classifier Training) \n",
        "##### © Xiyuan Li 2022, Department of Physics and Astronomy, Western University (University of Western Ontario), London, Ontario, Canada\n",
        "##### Resources: \n",
        "[PyCBC](http://github.com/ligo-cbc/pycbc) + additional PyCBC [examples](http://pycbc.org/pycbc/latest/html/#library-examples-and-interactive-tutorials) and module level documentation are [here](http://pycbc.org/pycbc/latest/html/py-modindex.html)."
      ]
    },
    {
      "cell_type": "code",
      "execution_count": null,
      "metadata": {
        "colab": {
          "base_uri": "https://localhost:8080/"
        },
        "id": "0jZoT0eYLggt",
        "outputId": "d9eb5fa7-0174-4b0c-bfb9-b02f9f38e8f9"
      },
      "outputs": [
        {
          "output_type": "stream",
          "name": "stdout",
          "text": [
            "\u001b[K     |████████████████████████████████| 27.3 MB 7.6 MB/s \n",
            "\u001b[K     |████████████████████████████████| 6.3 MB 49.2 MB/s \n",
            "\u001b[K     |████████████████████████████████| 51 kB 7.5 MB/s \n",
            "\u001b[K     |████████████████████████████████| 1.4 MB 41.8 MB/s \n",
            "\u001b[?25h  Installing build dependencies ... \u001b[?25l\u001b[?25hdone\n",
            "  Getting requirements to build wheel ... \u001b[?25l\u001b[?25hdone\n",
            "    Preparing wheel metadata ... \u001b[?25l\u001b[?25hdone\n",
            "\u001b[K     |████████████████████████████████| 201 kB 52.3 MB/s \n",
            "\u001b[K     |████████████████████████████████| 78 kB 9.9 MB/s \n",
            "\u001b[K     |████████████████████████████████| 45 kB 4.1 MB/s \n",
            "\u001b[K     |████████████████████████████████| 14.8 MB 27.9 MB/s \n",
            "\u001b[K     |████████████████████████████████| 295 kB 74.3 MB/s \n",
            "\u001b[K     |████████████████████████████████| 55 kB 3.5 MB/s \n",
            "\u001b[K     |████████████████████████████████| 4.1 MB 49.6 MB/s \n",
            "\u001b[?25h  Building wheel for lscsoft-glue (PEP 517) ... \u001b[?25l\u001b[?25hdone\n",
            "  Building wheel for ligo-segments (setup.py) ... \u001b[?25l\u001b[?25hdone\n",
            "\u001b[31mERROR: pip's dependency resolver does not currently take into account all the packages that are installed. This behaviour is the source of the following dependency conflicts.\n",
            "xarray-einstats 0.2.2 requires numpy>=1.21, but you have numpy 1.19.5 which is incompatible.\n",
            "tensorflow 2.8.2+zzzcolab20220719082949 requires numpy>=1.20, but you have numpy 1.19.5 which is incompatible.\n",
            "datascience 0.10.6 requires folium==0.2.1, but you have folium 0.8.3 which is incompatible.\n",
            "albumentations 0.1.12 requires imgaug<0.2.7,>=0.2.5, but you have imgaug 0.2.9 which is incompatible.\u001b[0m\n"
          ]
        }
      ],
      "source": [
        "! pip install -q 'lalsuite==6.82' 'PyCBC==1.18.0'"
      ]
    },
    {
      "cell_type": "code",
      "source": [
        "import pycbc\n",
        "import pylab\n",
        "from pycbc.catalog import Merger\n",
        "from pycbc.waveform import get_td_waveform\n",
        "from pycbc.filter import resample_to_delta_t, highpass\n",
        "import pycbc.noise\n",
        "import pycbc.psd\n",
        "\n",
        "import numpy as np\n",
        "import pandas as pd\n",
        "import time\n",
        "\n",
        "import sys\n",
        "import os\n",
        "import random\n",
        "import matplotlib.pyplot as plt\n",
        "import pickle"
      ],
      "metadata": {
        "id": "gG6ku8jzfINn"
      },
      "execution_count": null,
      "outputs": []
    },
    {
      "cell_type": "markdown",
      "source": [
        "#### Utility Functions"
      ],
      "metadata": {
        "id": "2nVx9IwPnodt"
      }
    },
    {
      "cell_type": "code",
      "source": [
        "def unisonShuffle(a, b):\n",
        "    '''Random shuffle two arrays in the same order.'''\n",
        "    rng_state = np.random.get_state()\n",
        "    permu_a = np.random.shuffle(a)\n",
        "    np.random.set_state(rng_state)\n",
        "    permu_b = np.random.shuffle(b)\n",
        "\n",
        "    return permu_a, permu_b"
      ],
      "metadata": {
        "id": "CY7qhqc5n1K5"
      },
      "execution_count": null,
      "outputs": []
    },
    {
      "cell_type": "code",
      "source": [
        "# merger frequency estimation related\n",
        "def f_merger(m1, m2):\n",
        "    '''Merger frequency estimation'''\n",
        "    Mchirp = (m1*m2)**(3/5)/(m1+m2)**(1/5)\n",
        "    c = 3*10**8           # speed of light\n",
        "    G = 6.674*10**(-11)   # gravitational constant\n",
        "    R = 1.7               # compactness ratio\n",
        "\n",
        "    # merger frequency formula\n",
        "    freq = (c**3)/(R**(3/2)*2**(3/2)*G*Mchirp*1.989*10**30)/(np.pi)     \n",
        "\n",
        "    return freq\n",
        "\n",
        "def f_evolution(m1, m2, t):\n",
        "    '''Frequency evolution estimation'''\n",
        "    ts = np.linspace(1, t, t*100)             # trace back t before the merger, \n",
        "                                              # up to 100th a second\n",
        "    tc = t                                    \n",
        "    tau = tc - ts\n",
        "    Mchirp = (m1*m2)**(3/5)/(m1+m2)**(1/5) \n",
        "    c = 3*10**8           # speed of light\n",
        "    G = 6.674*10**(-11)   # gravitational constant\n",
        "    freq_gw = (1/np.pi)*((5/(256*tau))**(3/8))*((G*Mchirp*1.989*10**30)/c**3)**(-5/8)\n",
        "\n",
        "    return freq_gw\n",
        "\n",
        "def f_prior(m1, m2, tau):\n",
        "    '''Frequency estimation, tau prior to the merger '''\n",
        "    Mchirp = (m1*m2)**(3/5)/(m1+m2)**(1/5) \n",
        "    c = 3*10**8           # speed of light\n",
        "    G = 6.674*10**(-11)   # gravitational constant\n",
        "    freq_prior = (1/np.pi)*((5/(256*tau))**(3/8))*((G*Mchirp*1.989*10**30)/c**3)**(-5/8)\n",
        "\n",
        "    return freq_prior\n",
        "\n",
        "def signaltonoise(Arr, axis=0, ddof=0):\n",
        "    Arr = np.asanyarray(Arr)\n",
        "    me = Arr.mean(axis)\n",
        "    sd = Arr.std(axis=axis, ddof=ddof)\n",
        "    \n",
        "    return np.where(sd == 0, 0, me/sd)\n"
      ],
      "metadata": {
        "id": "0wV1POynzYmk"
      },
      "execution_count": null,
      "outputs": []
    },
    {
      "cell_type": "code",
      "source": [
        "# prepare progress bar\n",
        "%%capture\n",
        "from tqdm import tqdm as tqdm\n",
        "tqdm().pandas()"
      ],
      "metadata": {
        "id": "DNbCiJZRo4XK"
      },
      "execution_count": null,
      "outputs": []
    },
    {
      "cell_type": "markdown",
      "source": [
        "#### Noise and Waveform Generation"
      ],
      "metadata": {
        "id": "fAWp8kN_qjge"
      }
    },
    {
      "cell_type": "code",
      "source": [
        "def generate_Mass_pairs(lower_m = 1, higher_m = 45, dense = 100, \n",
        "                                                display=True, seed=None):\n",
        "    '''\n",
        "    Input:  \n",
        "                  lower_m                     lower mass limit \n",
        "                  higher_m                    higher mass limit \n",
        "                  dense                       mass density\n",
        "                  display (optional)           \n",
        "                  seed (optional)\n",
        "    Output:\n",
        "                  training_m1, training_m2, \n",
        "                            testing_m1, testing_m2, \n",
        "                                      validation_m1, validation_m2            \n",
        "    '''\n",
        "    sum_m1 = np.ones(1); sum_m2 = np.ones(1)  \n",
        "\n",
        "    for m1 in np.linspace(lower_m, higher_m, dense): \n",
        "        rounded_m1 = float(\"{0:.3f}\".format(m1))          # round to 3 sig figs\n",
        "        \n",
        "        m2_dense = int(m1/higher_m*dense)                # ratioed m2 density\n",
        "        #m2_dense = dense                           # even m2 density (number)\n",
        "        \n",
        "        sum_m1 = np.concatenate((sum_m1, np.full(m2_dense, rounded_m1)), axis=0)\n",
        "        sum_m2 = np.concatenate((sum_m2, np.around(np.linspace(lower_m, \n",
        "                                                      rounded_m1, m2_dense), \n",
        "                                                          decimals=3)), axis=0)\n",
        "    sum_m1 = np.delete(sum_m1, 0); sum_m2 = np.delete(sum_m2, 0)\n",
        "    print('Total Number of Mass Pairs: '+ str(len(sum_m1)))\n",
        "    unisonShuffle(sum_m1, sum_m2)                         # shuffle mass pairs\n",
        "    \n",
        "    # Segement training, testing, and validation sets\n",
        "    # split ratio: 70:15:15\n",
        "    N = len(sum_m1)                                       # total # of pairs\n",
        "    training_m1 = sum_m1[int(N*0.3):]; training_m2 = sum_m2[int(N*0.3):]\n",
        "    testing_m1 = sum_m1[:int(N*0.15)]; testing_m2 = sum_m2[:int(N*0.15)]\n",
        "    validation_m1 = sum_m1[int(N*0.15):int(N*0.30)]\n",
        "    validation_m2 = sum_m2[int(N*0.15):int(N*0.30)]\n",
        "\n",
        "    print('# of Traning masses ' + str(len(training_m1)))\n",
        "    print('# of Testing masses ' + str(len(testing_m1)))\n",
        "    print('# of Validation masses ' + str(len(validation_m1)))\n",
        "\n",
        "    #Plot Training and Testing Masses\n",
        "    if display:\n",
        "        plt.figure()\n",
        "        plt.scatter(training_m1, training_m2, c='b',s=5)\n",
        "        plt.scatter(testing_m1, testing_m2, c ='r', s=5)\n",
        "        plt.scatter(validation_m1, validation_m2, c ='g', s=5)\n",
        "        plt.xlabel(r'$m_1$')\n",
        "        plt.ylabel(r'$m_2$')\n",
        "        plt.legend(['Training', 'Testing', 'Validation'])\n",
        "        plt.title('Testing, Training, and Validation Masses')\n",
        "        plt.show()\n",
        "        \n",
        "    return training_m1, training_m2, testing_m1, testing_m2, \\\n",
        "                                                  validation_m1, validation_m2"
      ],
      "metadata": {
        "id": "QuX0MgyTPTIm"
      },
      "execution_count": null,
      "outputs": []
    },
    {
      "cell_type": "code",
      "source": [
        "# specify the sample rate\n",
        "# LIGO raw data is sampled at 16384 Hz (=2^14 samples/second).\n",
        "# signal frequency f_Nyquist = 8192 Hz.\n",
        "\n",
        "sample_rate = 2048        # samples per second\n",
        "data_length = 6           # seconds"
      ],
      "metadata": {
        "id": "AMFab1UZpA3p"
      },
      "execution_count": null,
      "outputs": []
    },
    {
      "cell_type": "code",
      "source": [
        "# colored LIGO noise\n",
        "flow = 30.0\n",
        "delta_f = 1.0 / 16\n",
        "flen = int(sample_rate / (2*delta_f)) + 1        # -> upper frequency 1024 Hz\n",
        "psd = pycbc.psd.aLIGOZeroDetHighPower(flen, delta_f, flow)\n",
        "\n",
        "# inspect LIGO Zero Detuned High Power Noise\n",
        "plt.plot(psd)\n",
        "plt.ylabel('Amp')\n",
        "plt.xlabel('Freq')\n",
        "plt.title('aLIGO Zero Det High Power Noise PSD')\n",
        "plt.show()\n",
        "\n",
        "delta_t = 1.0 / sample_rate        \n",
        "tsamples = int(data_length / delta_t)\n",
        "aLIGO_noise = pycbc.noise.noise_from_psd(tsamples, delta_t, psd, seed=10)\n",
        "\n",
        "plt.plot(aLIGO_noise.sample_times, aLIGO_noise)\n",
        "plt.ylabel('Noise Strain')\n",
        "plt.xlabel('Time (s)')\n",
        "plt.title('aLIGO Zero Det High Power Noise Sample')\n",
        "plt.show()"
      ],
      "metadata": {
        "colab": {
          "base_uri": "https://localhost:8080/",
          "height": 573
        },
        "id": "5pcOUTx8qm6-",
        "outputId": "b3de9a94-6ee3-4bdb-eefd-103384c3c36a"
      },
      "execution_count": null,
      "outputs": [
        {
          "output_type": "display_data",
          "data": {
            "text/plain": [
              "<Figure size 432x288 with 1 Axes>"
            ],
            "image/png": "[encoded data removed]"
          },
          "metadata": {
            "needs_background": "light"
          }
        },
        {
          "output_type": "display_data",
          "data": {
            "text/plain": [
              "<Figure size 432x288 with 1 Axes>"
            ],
            "image/png": "[encoded data removed]"
          },
          "metadata": {
            "needs_background": "light"
          }
        }
      ]
    },
    {
      "cell_type": "code",
      "source": [
        "# merger waveform generation \n",
        "apx = 'IMRPhenomD'                                        # the \"approximant\"\n",
        "\n",
        "start_time = time.time()\n",
        "# You can specify many parameters, \n",
        "# https://pycbc.org/pycbc/latest/html/pycbc.waveform.html?highlight=get_td_waveform#pycbc.waveform.waveform.get_td_waveform\n",
        "\n",
        "def generate_merger_waveform(array_m1, array_m2, sample_rate, duration, \n",
        "                                  distance, merger_time, spin=0.8, \n",
        "                                    inclination=0, noise=True, savefile=True, \n",
        "                                      path_folder='waveForm', \n",
        "                                      filename=None, fileformat=['pickle']):\n",
        "    '''\n",
        "    Dataframe Parameters:\n",
        "                  'Waveform',                         \n",
        "                  'm1', \n",
        "                  'm2', \n",
        "                  'Merger Position',        \n",
        "                          0: merger near the end of the specified duration\n",
        "                          1: merger near the center of the specified duration\n",
        "                          2: merger near the beginning of the specified duration\n",
        "                  'spin1z', 'spin2z',               BH spin in z\n",
        "                  'Distance',                       luminosity distance in Mpc\n",
        "                  'PSNAR'                           peak signal-noise amplitude\n",
        "    '''\n",
        "    if savefile:\n",
        "        current_path = os.getcwd()\n",
        "        if 'csv' in fileformat:\n",
        "            path = os.path.join(current_path, path_folder+'/csv_data/') \n",
        "            os.makedirs(path, exist_ok=True) \n",
        "        if 'pickle' in fileformat:\n",
        "            path = os.path.join(current_path, path_folder+'/pickle_data/') \n",
        "            os.makedirs(path, exist_ok=True) \n",
        "            \n",
        "    wave_series = pd.DataFrame(columns=['Waveform', 'm1', 'm2', \n",
        "                                            'Merger Position', 'spin1z', \n",
        "                                              'spin2z', 'Distance', 'PSNAR'])\n",
        "    N = len(array_m1)                                  # total # of pairs\n",
        "    if noise:\n",
        "        # colored LIGO noise\n",
        "        flow = 30.0\n",
        "        delta_f = 1.0 / 16\n",
        "        flen = int(sample_rate / (2 * delta_f)) + 1    # upper frequency 1024 Hz\n",
        "        psd = pycbc.psd.aLIGOZeroDetHighPower(flen, delta_f, flow)\n",
        "        delta_t = 1.0 / sample_rate        \n",
        "    \n",
        "    rounded_z_spin1 = np.around(np.random.random(N)*2*spin-spin, decimals=3, out=None)\n",
        "    rounded_z_spin2 = np.around(np.random.random(N)*2*spin-spin, decimals=3, out=None)\n",
        "    waveform_exception = []\n",
        "    \n",
        "    with tqdm(total=N) as pbar:\n",
        "        for i in range(N):\n",
        "            # estimated frequency at 'duration' seconds before the merger\n",
        "            lower_Freq = f_prior(array_m1[i], array_m2[i], duration)       \n",
        "            try:\n",
        "                hp1, _ = get_td_waveform(approximant=apx,\n",
        "                                    mass1=array_m1[i],\n",
        "                                    mass2=array_m2[i],\n",
        "                                    delta_t=1.0/sample_rate,\n",
        "                                    f_lower=lower_Freq,\n",
        "                                    spin1z = rounded_z_spin1[i],\n",
        "                                    spin2z = rounded_z_spin2[i],\n",
        "                                    distance = distance)\n",
        "            except:\n",
        "                # set spin to 0\n",
        "                hp1, _ = get_td_waveform(approximant=apx,\n",
        "                                    mass1=array_m1[i],\n",
        "                                    mass2=array_m2[i],\n",
        "                                    delta_t=1.0/sample_rate,\n",
        "                                    f_lower=lower_Freq,\n",
        "                                    spin1z = 0,\n",
        "                                    spin2z = 0,\n",
        "                                    distance = distance)\n",
        "            \n",
        "            hp1 = np.asarray(hp1)\n",
        "            # trim hp1 size - translate to a new function\n",
        "            hp1 = trim_mergerWaveform(hp1, merger_time[i], duration)\n",
        "\n",
        "            snr = None;   peak_amp_ratio = None   \n",
        "            if noise:\n",
        "                tsamples = len(hp1)\n",
        "                noise_signal = pycbc.noise.noise_from_psd(tsamples, delta_t, psd)\n",
        "                \n",
        "                hp1_noisy = hp1 + noise_signal   \n",
        "                # will add signal to noise ratio calculation\n",
        "\n",
        "                peak_amp_ratio = max(hp1)/max(noise_signal)\n",
        "                hp1 = np.asarray(hp1_noisy)\n",
        "            \n",
        "            wave_series.loc[i] = [hp1, array_m1[i], \n",
        "                            array_m2[i], merger_time[i], rounded_z_spin1[i], \n",
        "                                rounded_z_spin2[i], distance, peak_amp_ratio]\n",
        "        \n",
        "            if savefile and 'csv' in fileformat:\n",
        "                label = '-'.join(map(str, [array_m1[i], \n",
        "                            array_m2[i], merger_time[i], rounded_z_spin1[i], \n",
        "                                rounded_z_spin2[i], distance, peak_amp_ratio]))\n",
        "                \n",
        "                np.savetxt(str(path_folder)+'/csv_data/'+str(filename)+'-' \\\n",
        "                                      + str(label) +'.csv', hp1, delimiter=\",\")\n",
        "                \n",
        "            pbar.update(1)\n",
        "\n",
        "    if savefile and 'pickle' in fileformat:\n",
        "        unique_stamp = time.time()\n",
        "        wave_series.to_pickle(str(path_folder)+'/pickle_data/'+str(filename)+\\\n",
        "                                  '-'+str(unique_stamp) +\"waveform_data.pkl\")  \n",
        "\n",
        "    print('Generated '+str(len(wave_series))+' training times series.')\n",
        "    print('Final dataframe size in memory: '\\\n",
        "                        + str(sys.getsizeof(wave_series)/10**6) + 'Mb.')\n",
        "\n",
        "    print(\"--- %s seconds ---\" % (time.time() - start_time))\n",
        "    \n",
        "    \n",
        "    return wave_series, waveform_exception"
      ],
      "metadata": {
        "id": "1J4_ZFCJttMR"
      },
      "execution_count": null,
      "outputs": []
    },
    {
      "cell_type": "code",
      "source": [
        "def trim_mergerWaveform(hp1, merger_time, duration):\n",
        "    '''\n",
        "    merger_time        \n",
        "                          0: merger near the end of the specified duration\n",
        "                          1: merger near the center of the specified duration\n",
        "                          2: merger near the beginning of the specified duration\n",
        "    '''\n",
        "    hp1_length = len(hp1)\n",
        "    if merger_time == 0:         # no shift\n",
        "        if hp1_length<duration*sample_rate:\n",
        "            hp1 = np.hstack((\n",
        "                    np.zeros(duration*sample_rate), hp1))\n",
        "        hp1 = hp1[len(hp1)-duration*sample_rate:]\n",
        "\n",
        "    elif merger_time == 1:       # center shift\n",
        "        # position of the waveform peak in the array\n",
        "        merger_position = np.argmax(hp1)              \n",
        "        hp1 = np.hstack((np.zeros(duration*sample_rate), hp1, \n",
        "                                            np.zeros(duration*sample_rate)))\n",
        "        reference = int(merger_position+duration*sample_rate//2       \\\n",
        "                        +np.random.randint(-int(duration/10*sample_rate), \n",
        "                                                int(duration/10*sample_rate)))\n",
        "        hp1 = hp1[reference:int(reference+duration*sample_rate)]    # check size\n",
        "        \n",
        "    elif merger_time == 2:       # beginning shift\n",
        "        # position of the waveform peak in the array\n",
        "        merger_position = np.argmax(hp1)              \n",
        "        hp1 = np.hstack((np.zeros(duration*sample_rate), hp1, \n",
        "                                            np.zeros(duration*sample_rate)))\n",
        "        reference = int(merger_position+3*duration/4*sample_rate      \\\n",
        "                        +np.random.randint(-int(duration/10*sample_rate), \n",
        "                                                int(duration/10*sample_rate)))\n",
        "        hp1 = hp1[reference:int(reference+duration*sample_rate)]    # check size\n",
        "\n",
        "    return hp1"
      ],
      "metadata": {
        "id": "FAdk0iMC1bfc"
      },
      "execution_count": null,
      "outputs": []
    },
    {
      "cell_type": "code",
      "source": [
        "\n",
        "for distance in [410, 610, 810]:\n",
        "              \n",
        "    training_m1, training_m2, testing_m1, testing_m2, validation_m1, validation_m2 = generate_Mass_pairs(lower_m=1, higher_m=150, dense=150)\n",
        "    merger_position = np.random.randint(3, size=len(training_m1))\n",
        "    training, skipped_1 = generate_merger_waveform(training_m1, training_m2, \n",
        "                                                  sample_rate, 6, distance, \n",
        "                                                  merger_time=merger_position, \n",
        "                                                  noise=True, path_folder='training', \n",
        "                                                  filename='training-6s-merger-wnoise-'+str(distance)+'Mpc', \n",
        "                                                  fileformat=['pickle'])\n",
        "    \n",
        "    merger_position = np.random.randint(3, size=len(testing_m1))\n",
        "    testing, skipped_2 = generate_merger_waveform(testing_m1, testing_m2, \n",
        "                                                  sample_rate, 6, \n",
        "                                                  distance, \n",
        "                                                  merger_time=merger_position, \n",
        "                                                  noise=True,path_folder='testing',\n",
        "                                                  filename='testing-6s-merger-wnoise-'+str(distance)+'Mpc', \n",
        "                                                  fileformat=['pickle'])\n",
        "    \n",
        "    merger_position = np.random.randint(3, size=len(validation_m1))\n",
        "    validation, skipped_3 = generate_merger_waveform(validation_m1, validation_m1, \n",
        "                                                     sample_rate, 6, \n",
        "                                                     distance, merger_time=merger_position, \n",
        "                                                     noise=True, path_folder='validation',\n",
        "                                                     filename='validation-6s-merger-wnoise-'+str(distance)+'Mpc', \n",
        "                                                     fileformat=['pickle'])"
      ],
      "metadata": {
        "id": "wNkKJFTDluMu"
      },
      "execution_count": null,
      "outputs": []
    },
    {
      "cell_type": "code",
      "source": [
        "test = pd.read_pickle('/content/training/pickle_data/training-6s-merger-wnoise-410Mpc-1658865587.7018325waveform_data.pkl')"
      ],
      "metadata": {
        "id": "sreFQ3CURX4Y"
      },
      "execution_count": null,
      "outputs": []
    },
    {
      "cell_type": "code",
      "source": [
        "print(test.loc[358])\n",
        "plt.plot(test.loc[358, 'Waveform'])\n",
        "plt.show()"
      ],
      "metadata": {
        "id": "xKHMa_ijRmYB"
      },
      "execution_count": null,
      "outputs": []
    }
  ]
}